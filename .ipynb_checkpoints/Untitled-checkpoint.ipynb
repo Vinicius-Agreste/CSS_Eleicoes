{
 "cells": [
  {
   "cell_type": "code",
   "execution_count": null,
   "id": "734968f5",
   "metadata": {},
   "outputs": [],
   "source": [
    "import tweepy\n",
    "import datetime\n",
    "import time\n",
    "bearer_token = \"AAAAAAAAAAAAAAAAAAAAACAnkAEAAAAAkxcXL6XD2TRW9FeYBOiZcxsASkU%3DaVO7yShAWO1KwrZossbSR4OZGyrmWDap4jlnLcNdHSL2IKgKzX\"\n",
    "\n",
    "client = tweepy.Client(bearer_token,wait_on_rate_limit=True)\n",
    "\n",
    "# Pull tweets from twitter\n",
    "start = datetime.datetime(2022,8,1)\n",
    "end = datetime.datetime(2022,11,1)\n",
    "\n",
    "query = '#Eleicoes2022  place_country:BR has:geo'\n",
    "tweets = tweepy.Paginator(client.search_all_tweets,start_time=start,end_time=end, query=query, max_results=100, expansions=[\"geo.place_id\"]).flatten(limit=100000)\n",
    "num = 0\n",
    "\n",
    "for tweet in tweets:\n",
    "    print(tweet.text)\n",
    "    num= num+1\n",
    "    print(num)\n",
    "    time.sleep(0.01)\n",
    "        "
   ]
  }
 ],
 "metadata": {
  "kernelspec": {
   "display_name": "Python 3 (ipykernel)",
   "language": "python",
   "name": "python3"
  },
  "language_info": {
   "codemirror_mode": {
    "name": "ipython",
    "version": 3
   },
   "file_extension": ".py",
   "mimetype": "text/x-python",
   "name": "python",
   "nbconvert_exporter": "python",
   "pygments_lexer": "ipython3",
   "version": "3.9.13"
  }
 },
 "nbformat": 4,
 "nbformat_minor": 5
}
