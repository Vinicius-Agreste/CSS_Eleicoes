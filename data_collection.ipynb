import tweepy
import datetime
import time
bearer_token = "AAAAAAAAAAAAAAAAAAAAACAnkAEAAAAAkxcXL6XD2TRW9FeYBOiZcxsASkU%3DaVO7yShAWO1KwrZossbSR4OZGyrmWDap4jlnLcNdHSL2IKgKzX"

client = tweepy.Client(bearer_token,wait_on_rate_limit=True)

# Pull tweets from twitter
start = datetime.datetime(2022,8,1)
end = datetime.datetime(2022,11,1)

query = '#Eleicoes2022  place_country:BR has:geo'
tweets = tweepy.Paginator(client.search_all_tweets,start_time=start,end_time=end, query=query, max_results=100, expansions=["geo.place_id"]).flatten(limit=100000)
num = 0

for tweet in tweets:
    print(tweet.text)
    num= num+1
    print(num)
    time.sleep(0.01)
        
